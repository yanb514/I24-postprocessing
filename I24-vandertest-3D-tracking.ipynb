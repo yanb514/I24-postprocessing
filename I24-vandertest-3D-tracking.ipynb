{
 "cells": [
  {
   "cell_type": "code",
   "execution_count": 1,
   "metadata": {},
   "outputs": [
    {
     "name": "stderr",
     "output_type": "stream",
     "text": [
      "\n",
      "Bad key \"text.kerning_factor\" on line 4 in\n",
      "C:\\ProgramData\\Anaconda3\\lib\\site-packages\\matplotlib\\mpl-data\\stylelib\\_classic_test_patch.mplstyle.\n",
      "You probably need to get an updated matplotlibrc file from\n",
      "http://github.com/matplotlib/matplotlib/blob/master/matplotlibrc.template\n",
      "or from the matplotlib source distribution\n"
     ]
    }
   ],
   "source": [
    "from utils import *\n",
    "import importlib\n",
    "import utils\n",
    "importlib.reload(utils)\n",
    "import os.path\n",
    "from os import path\n",
    "import pandas as pd\n",
    "import utils_optimization as opt\n",
    "importlib.reload(opt)\n",
    "import data_association as da\n",
    "importlib.reload(da)\n",
    "import time\n",
    "import numpy.linalg as LA"
   ]
  },
  {
   "cell_type": "code",
   "execution_count": 2,
   "metadata": {},
   "outputs": [],
   "source": [
    "# read & rectify each camera df individually\n",
    "\n",
    "data_path = pathlib.Path().absolute().joinpath('../3D tracking')\n",
    "tform_path = pathlib.Path().absolute().joinpath('../tform')\n"
   ]
  },
  {
   "cell_type": "code",
   "execution_count": 13,
   "metadata": {},
   "outputs": [
    {
     "name": "stdout",
     "output_type": "stream",
     "text": [
      "Reading data...\n",
      "Total # cars before preprocessing: 8002\n",
      "Transform from image to road for p1c1...\n",
      "Interpret missing timestamps...\n",
      "Constrain x,y range by camera FOV\n",
      "0.0 158.48826577263029 -5 45\n",
      "Filtering out tailing place holders...\n",
      "Get the longest continuous frame chuck...\n",
      "Get x direction...\n",
      "Naive filter...\n",
      "after direction=0 filter:  2656\n"
     ]
    },
    {
     "name": "stderr",
     "output_type": "stream",
     "text": [
      "C:\\Users\\wangy79\\Documents\\I24_trajectory\\I24-trajectory-generation\\utils.py:76: RuntimeWarning: invalid value encountered in greater\n",
      "  outliers =\tnp.logical_or(abs(l1 - m) > 2 * s,abs(l2 - m) > 2 * s)\n",
      "C:\\Users\\wangy79\\Documents\\I24_trajectory\\I24-trajectory-generation\\utils.py:66: RuntimeWarning: invalid value encountered in greater\n",
      "  outliers =\tnp.logical_or(abs(w1 - m) > 2 * s,abs(w2 - m) > 2 * s)\n"
     ]
    },
    {
     "name": "stdout",
     "output_type": "stream",
     "text": [
      "filter width length: 2656\n",
      "cars:  2656 cars 51886\n",
      "id_rem 704\n",
      "After removing overlaps:  2656 cars 50506\n",
      "Before DA:  2656 cars\n",
      "After stitching:  691 cars, checking for overlaps...\n",
      "Get the longest continuous frame chunk...\n"
     ]
    },
    {
     "name": "stderr",
     "output_type": "stream",
     "text": [
      "100%|█████████████████████████████████████████████████████████████████████████████| 4495/4495 [00:29<00:00, 152.35it/s]\n"
     ]
    },
    {
     "name": "stdout",
     "output_type": "stream",
     "text": [
      "Reading data...\n",
      "Total # cars before preprocessing: 1640\n",
      "Transform from image to road for p1c3...\n",
      "Interpret missing timestamps...\n",
      "Constrain x,y range by camera FOV\n",
      "182.87107589149647 243.82810118866198 -5 45\n",
      "Filtering out tailing place holders...\n",
      "Get the longest continuous frame chuck...\n",
      "Get x direction...\n",
      "Naive filter...\n",
      "after direction=0 filter:  819\n"
     ]
    },
    {
     "name": "stderr",
     "output_type": "stream",
     "text": [
      "C:\\Users\\wangy79\\Documents\\I24_trajectory\\I24-trajectory-generation\\utils.py:76: RuntimeWarning: invalid value encountered in greater\n",
      "  outliers =\tnp.logical_or(abs(l1 - m) > 2 * s,abs(l2 - m) > 2 * s)\n",
      "C:\\Users\\wangy79\\Documents\\I24_trajectory\\I24-trajectory-generation\\utils.py:66: RuntimeWarning: invalid value encountered in greater\n",
      "  outliers =\tnp.logical_or(abs(w1 - m) > 2 * s,abs(w2 - m) > 2 * s)\n"
     ]
    },
    {
     "name": "stdout",
     "output_type": "stream",
     "text": [
      "filter width length: 819\n",
      "cars:  819 cars 15754\n",
      "id_rem 137\n",
      "After removing overlaps:  819 cars 15505\n",
      "Before DA:  819 cars\n",
      "After stitching:  406 cars, checking for overlaps...\n",
      "Get the longest continuous frame chunk...\n"
     ]
    },
    {
     "name": "stderr",
     "output_type": "stream",
     "text": [
      "100%|█████████████████████████████████████████████████████████████████████████████| 4358/4358 [00:30<00:00, 140.69it/s]\n"
     ]
    },
    {
     "name": "stdout",
     "output_type": "stream",
     "text": [
      "Reading data...\n",
      "Total # cars before preprocessing: 961\n",
      "Transform from image to road for p1c4...\n",
      "Interpret missing timestamps...\n",
      "Constrain x,y range by camera FOV\n",
      "182.87107589149647 243.82810118866198 -5 45\n",
      "Filtering out tailing place holders...\n",
      "Get the longest continuous frame chuck...\n",
      "Get x direction...\n",
      "Naive filter...\n",
      "after direction=0 filter:  507\n"
     ]
    },
    {
     "name": "stderr",
     "output_type": "stream",
     "text": [
      "C:\\Users\\wangy79\\Documents\\I24_trajectory\\I24-trajectory-generation\\utils.py:76: RuntimeWarning: invalid value encountered in greater\n",
      "  outliers =\tnp.logical_or(abs(l1 - m) > 2 * s,abs(l2 - m) > 2 * s)\n"
     ]
    },
    {
     "name": "stdout",
     "output_type": "stream",
     "text": [
      "filter width length: 507\n",
      "cars:  507 cars 12112\n",
      "id_rem 54\n",
      "After removing overlaps:  507 cars 12030\n",
      "Before DA:  507 cars\n",
      "After stitching:  314 cars, checking for overlaps...\n",
      "Get the longest continuous frame chunk...\n"
     ]
    },
    {
     "name": "stderr",
     "output_type": "stream",
     "text": [
      "100%|█████████████████████████████████████████████████████████████████████████████| 3954/3954 [00:29<00:00, 134.64it/s]\n"
     ]
    },
    {
     "name": "stdout",
     "output_type": "stream",
     "text": [
      "Reading data...\n",
      "Total # cars before preprocessing: 2362\n",
      "Transform from image to road for p1c5...\n",
      "Interpret missing timestamps...\n",
      "Constrain x,y range by camera FOV\n",
      "201.15818348064613 292.5937214263944 -5 45\n",
      "Filtering out tailing place holders...\n",
      "Get the longest continuous frame chuck...\n",
      "Get x direction...\n",
      "Naive filter...\n",
      "after direction=0 filter:  1104\n"
     ]
    },
    {
     "name": "stderr",
     "output_type": "stream",
     "text": [
      "C:\\Users\\wangy79\\Documents\\I24_trajectory\\I24-trajectory-generation\\utils.py:76: RuntimeWarning: invalid value encountered in greater\n",
      "  outliers =\tnp.logical_or(abs(l1 - m) > 2 * s,abs(l2 - m) > 2 * s)\n",
      "C:\\Users\\wangy79\\Documents\\I24_trajectory\\I24-trajectory-generation\\utils.py:66: RuntimeWarning: invalid value encountered in greater\n",
      "  outliers =\tnp.logical_or(abs(w1 - m) > 2 * s,abs(w2 - m) > 2 * s)\n"
     ]
    },
    {
     "name": "stdout",
     "output_type": "stream",
     "text": [
      "filter width length: 1104\n",
      "cars:  1104 cars 22820\n",
      "id_rem 292\n",
      "After removing overlaps:  1104 cars 22383\n",
      "Before DA:  1104 cars\n",
      "After stitching:  444 cars, checking for overlaps...\n",
      "Get the longest continuous frame chunk...\n"
     ]
    },
    {
     "name": "stderr",
     "output_type": "stream",
     "text": [
      "100%|█████████████████████████████████████████████████████████████████████████████| 4372/4372 [00:29<00:00, 146.59it/s]\n"
     ]
    },
    {
     "name": "stdout",
     "output_type": "stream",
     "text": [
      "Reading data...\n",
      "Total # cars before preprocessing: 4312\n",
      "Transform from image to road for p1c6...\n",
      "Interpret missing timestamps...\n",
      "Constrain x,y range by camera FOV\n",
      "231.63669612922888 365.74215178299295 -5 45\n",
      "Filtering out tailing place holders...\n",
      "Get the longest continuous frame chuck...\n",
      "Get x direction...\n",
      "Naive filter...\n",
      "after direction=0 filter:  1656\n"
     ]
    },
    {
     "name": "stderr",
     "output_type": "stream",
     "text": [
      "C:\\Users\\wangy79\\Documents\\I24_trajectory\\I24-trajectory-generation\\utils.py:76: RuntimeWarning: invalid value encountered in greater\n",
      "  outliers =\tnp.logical_or(abs(l1 - m) > 2 * s,abs(l2 - m) > 2 * s)\n",
      "C:\\Users\\wangy79\\Documents\\I24_trajectory\\I24-trajectory-generation\\utils.py:66: RuntimeWarning: invalid value encountered in greater\n",
      "  outliers =\tnp.logical_or(abs(w1 - m) > 2 * s,abs(w2 - m) > 2 * s)\n"
     ]
    },
    {
     "name": "stdout",
     "output_type": "stream",
     "text": [
      "filter width length: 1656\n",
      "cars:  1656 cars 41712\n",
      "id_rem 596\n",
      "After removing overlaps:  1656 cars 40643\n",
      "Before DA:  1656 cars\n",
      "After stitching:  494 cars, checking for overlaps...\n",
      "Get the longest continuous frame chunk...\n"
     ]
    },
    {
     "name": "stderr",
     "output_type": "stream",
     "text": [
      "100%|█████████████████████████████████████████████████████████████████████████████| 4495/4495 [00:29<00:00, 151.99it/s]\n"
     ]
    }
   ],
   "source": [
    "names = ['p1c1','p1c3','p1c4','p1c5','p1c6']\n",
    "for name in names:\n",
    "    file = 'record_51_'+name+'_00000_3D_track_outputs.csv'\n",
    "    camera = utils.find_camera_name(file)\n",
    "    file_path = data_path.joinpath(file)\n",
    "    df = utils.read_data(file_path)\n",
    "    df = utils.preprocess(file_path, tform_path, skip_row = 0)\n",
    "    df = utils.preprocess_data_association(df, file,tform_path)\n",
    "    df.to_csv(data_path.joinpath('DA/'+camera+'.csv'), index=False)\n",
    "#     df.to_csv('p1c2_pre.csv')\n",
    "    # df = df[df['Frame #']<1800]     "
   ]
  },
  {
   "cell_type": "code",
   "execution_count": 21,
   "metadata": {},
   "outputs": [
    {
     "name": "stdout",
     "output_type": "stream",
     "text": [
      "cars:  1192 cars 30735\n",
      "id_rem 418\n",
      "After removing overlaps:  1192 cars 29905\n",
      "Before DA:  1192 cars\n",
      "After stitching:  458 cars, checking for overlaps...\n",
      "Get the longest continuous frame chunk...\n"
     ]
    },
    {
     "name": "stderr",
     "output_type": "stream",
     "text": [
      "100%|█████████████████████████████████████████████████████████████████████████████| 4433/4433 [00:28<00:00, 153.78it/s]\n"
     ]
    }
   ],
   "source": [
    "import utils\n",
    "importlib.reload(utils)\n",
    "import utils_optimization as opt\n",
    "importlib.reload(opt)\n",
    "import data_association as da\n",
    "importlib.reload(da)\n",
    "df = utils.preprocess_data_association(df, file,tform_path)\n",
    "df.to_csv(data_path.joinpath('DA/'+camera+'.csv'), index=False)"
   ]
  },
  {
   "cell_type": "code",
   "execution_count": 15,
   "metadata": {},
   "outputs": [
    {
     "name": "stdout",
     "output_type": "stream",
     "text": [
      "Rectifying...\n"
     ]
    },
    {
     "name": "stderr",
     "output_type": "stream",
     "text": [
      "100%|████████████████████████████████████████████████████████████████████████████████| 440/440 [02:40<00:00,  2.74it/s]\n"
     ]
    },
    {
     "name": "stdout",
     "output_type": "stream",
     "text": [
      "cap width at 2.59m...\n",
      "remove overlaps, before:  405\n",
      "id_rem 12\n",
      "remove overlaps, after:  405\n",
      "standardize format for plotter...\n",
      "saved.\n"
     ]
    }
   ],
   "source": [
    "# ... rectifying ...\n",
    "camera = 'p1c6'\n",
    "df = utils.read_data(data_path.joinpath('DA/'+camera+'.csv'))\n",
    "df = opt.rectify(df)\n",
    "\n",
    "# ... post processing ...\n",
    "df = utils.post_process(df)\n",
    "\n",
    "# ... saving ...\n",
    "df.to_csv(data_path.joinpath('rectified/'+camera+'_noextend.csv'), index=False)\n",
    "print('saved.')"
   ]
  },
  {
   "cell_type": "code",
   "execution_count": 16,
   "metadata": {},
   "outputs": [
    {
     "name": "stdout",
     "output_type": "stream",
     "text": [
      "extending tracks to edges of the frame...\n",
      "231.63669612922888 365.74215178299295\n"
     ]
    },
    {
     "name": "stderr",
     "output_type": "stream",
     "text": [
      "100%|████████████████████████████████████████████████████████████████████████████████| 405/405 [00:12<00:00, 31.30it/s]\n"
     ]
    }
   ],
   "source": [
    "print('extending tracks to edges of the frame...')\n",
    "# camera = 'p1c4'\n",
    "df = utils.read_data(data_path.joinpath('rectified/'+camera+'_noextend.csv'))\n",
    "xmin, xmax, ymin, ymax = utils.get_camera_range(camera)\n",
    "maxFrame = max(df['Frame #'])\n",
    "print(xmin, xmax)\n",
    "args = (xmin, xmax, maxFrame)\n",
    "tqdm.pandas()\n",
    "# df = df.groupby('ID').apply(extend_prediction, args=args).reset_index(drop=True)\n",
    "df = utils.applyParallel(df.groupby(\"ID\"), utils.extend_prediction, args=args).reset_index(drop=True)\n",
    "df.to_csv(data_path.joinpath('rectified/'+camera+'.csv'), index=False)"
   ]
  },
  {
   "cell_type": "code",
   "execution_count": 13,
   "metadata": {},
   "outputs": [
    {
     "name": "stderr",
     "output_type": "stream",
     "text": [
      "100%|██████████████████████████████████████████████████████████████████████████████| 4496/4496 [01:05<00:00, 68.99it/s]\n"
     ]
    }
   ],
   "source": [
    "# combine all modifyID dataframes into one and plot them all\n",
    "names = ['p1c1','p1c2','p1c3','p1c5','p1c6']\n",
    "\n",
    "li = []\n",
    "\n",
    "for name in names:\n",
    "    df = utils.read_data(data_path.joinpath('rectified/modifyID/'+name+'.csv'))\n",
    "#     if name == 'p1c3': # keep the upper half\n",
    "    li.append(df)\n",
    "\n",
    "dfall = pd.concat(li, axis=0, ignore_index=True)\n",
    "# try keeping only one bbox per object per frame\n",
    "dfall = utils.applyParallel(dfall.groupby(\"Frame #\"), utils.del_repeat_meas_per_frame).reset_index(drop=True)"
   ]
  },
  {
   "cell_type": "code",
   "execution_count": 5,
   "metadata": {},
   "outputs": [
    {
     "name": "stdout",
     "output_type": "stream",
     "text": [
      "(121.91405059433099, 225.54099359951235, -5, 45)\n",
      "Frame:  0 4498\n"
     ]
    }
   ],
   "source": [
    "# make an animation based on LMCS\n",
    "import os\n",
    "import glob\n",
    "import importlib\n",
    "import animation_utils as an\n",
    "importlib.reload(an)\n",
    "image_folder = '../FramePic'\n",
    "\n",
    "camera = 'p1c2'\n",
    "df= utils.read_data(data_path.joinpath('record_51_p1c2_00000_3D_track_outputs.csv'))\n",
    "df = utils.img_to_road(df, tform_path, camera)\n",
    "# df = df[(df['Frame #']>1800)&(df['Frame #']<3600)]\n",
    "filelist = glob.glob(os.path.join(image_folder, \"*\"))\n",
    "for f in filelist:\n",
    "    os.remove(f)\n",
    "\n",
    "if len(df['camera'].dropna().unique())==1:\n",
    "    dim0 = utils.get_camera_range((df['camera'].dropna().unique()[0]))\n",
    "else:\n",
    "#     dim0 = utils.get_camera_range('all')\n",
    "    dim0 = (0.0, 365, -5, 45)\n",
    "print(dim0)\n",
    "dim = [d * 3.281 for d in dim0] # convert meter to feet\n",
    "an.generate_frames(df, dim, skip_frame=1, image_folder=image_folder)\n",
    "\n",
    "    "
   ]
  },
  {
   "cell_type": "code",
   "execution_count": 6,
   "metadata": {},
   "outputs": [],
   "source": [
    "# Fetch image files from the folder, and create an animation.\n",
    "importlib.reload(an)\n",
    "video_name = '../'+camera+'_raw.mp4'\n",
    "an.write_video(image_folder, video_name, fps=30)"
   ]
  },
  {
   "cell_type": "code",
   "execution_count": 38,
   "metadata": {},
   "outputs": [
    {
     "name": "stdout",
     "output_type": "stream",
     "text": [
      "[[ 1.32775479e+01  2.56355714e+00 -8.43161639e+03]\n",
      " [ 1.19105133e-02 -9.72983239e+00  9.37944130e+02]\n",
      " [ 4.41796016e-05  4.22452774e-03  1.00000000e+00]]\n"
     ]
    }
   ],
   "source": [
    "# visualize footprint on the camera video\n",
    "import utils\n",
    "importlib.reload(utils)\n",
    "import plot_rectified_objects\n",
    "importlib.reload(plot_rectified_objects)\n",
    "\n",
    "video = str(data_path.joinpath('raw video/record_51_p1c4_00000.mp4'))\n",
    "label_file = str(data_path.joinpath('rectified/p1c4.csv')) \n",
    "plot_rectified_objects.plot_vehicle_csv(video,label_file, frame_rate = 0,show_2d = False,show_3d = True,show_LMCS = True,show_rectified = False, ds=True)\n"
   ]
  },
  {
   "cell_type": "code",
   "execution_count": 39,
   "metadata": {},
   "outputs": [
    {
     "name": "stdout",
     "output_type": "stream",
     "text": [
      "290\n",
      "290\n"
     ]
    }
   ],
   "source": [
    "# replace RAV4's IDs\n",
    "# names = ['p1c1'],'p1c3','p1c2','p1c5','p1c6'\n",
    "camera = 'p1c4'\n",
    "df= utils.read_data(data_path.joinpath('rectified/'+camera+'.csv'))\n",
    "print(len(df['ID'].unique()))\n",
    "df[\"ID\"].replace({535:9999, 549:9998, 589:9997, 622:9996,635:9995,656:9994, 706:9993, 713:9992,721:9991,725:9990,759:9989}, inplace=True)\n",
    "print(len(df['ID'].unique()))\n",
    "df.to_csv('../3D tracking/rectified/modifyID/'+camera+'.csv')"
   ]
  },
  {
   "cell_type": "code",
   "execution_count": 52,
   "metadata": {},
   "outputs": [
    {
     "data": {
      "image/png": "[encoded data removed]",
      "text/plain": [
       "<Figure size 1080x72 with 1 Axes>"
      ]
     },
     "metadata": {},
     "output_type": "display_data"
    },
    {
     "data": {
      "image/png": "[encoded data removed]",
      "text/plain": [
       "<Figure size 1080x72 with 1 Axes>"
      ]
     },
     "metadata": {},
     "output_type": "display_data"
    }
   ],
   "source": [
    "import utils_optimization as opt\n",
    "importlib.reload(opt)\n",
    "\n",
    "dfda = utils.read_data(data_path.joinpath('DA/p1c2.csv'))\n",
    "pre = dfda[dfda['ID']==238]\n",
    "# pre = car.copy()\n",
    "# post = df[df['ID']==240]\n",
    "post = pre.copy()\n",
    "lams = (1,0,0,0.0,0.0)\n",
    "# lams = (1,0.2,0.2,0.05,0.02)\n",
    "post = opt.rectify_single_camera(post, args = lams)\n",
    "utils.plot_track_compare(pre,post)"
   ]
  },
  {
   "cell_type": "code",
   "execution_count": 22,
   "metadata": {},
   "outputs": [
    {
     "name": "stdout",
     "output_type": "stream",
     "text": [
      "40\n",
      "40\n"
     ]
    }
   ],
   "source": [
    "print(len(pre))\n",
    "print(len(pre['Frame #'].unique()))"
   ]
  },
  {
   "cell_type": "code",
   "execution_count": 35,
   "metadata": {},
   "outputs": [
    {
     "data": {
      "image/png": "[encoded data removed]",
      "text/plain": [
       "<Figure size 1080x72 with 1 Axes>"
      ]
     },
     "metadata": {},
     "output_type": "display_data"
    }
   ],
   "source": [
    "utils.plot_track_df(post)"
   ]
  },
  {
   "cell_type": "code",
   "execution_count": 38,
   "metadata": {},
   "outputs": [
    {
     "data": {
      "image/png": "[encoded data removed]",
      "text/plain": [
       "<Figure size 1080x216 with 5 Axes>"
      ]
     },
     "metadata": {},
     "output_type": "display_data"
    }
   ],
   "source": [
    "import utils \n",
    "importlib.reload(utils)\n",
    "utils.dashboard([pre,post])"
   ]
  },
  {
   "cell_type": "code",
   "execution_count": 10,
   "metadata": {},
   "outputs": [
    {
     "data": {
      "text/plain": [
       "<matplotlib.collections.PathCollection at 0x269b470c2e8>"
      ]
     },
     "execution_count": 10,
     "metadata": {},
     "output_type": "execute_result"
    },
    {
     "data": {
      "image/png": "[encoded data removed]",
      "text/plain": [
       "<Figure size 432x288 with 1 Axes>"
      ]
     },
     "metadata": {},
     "output_type": "display_data"
    }
   ],
   "source": [
    "plt.scatter(pre['Frame #'].values, pre.fbr_x.values)"
   ]
  },
  {
   "cell_type": "code",
   "execution_count": 53,
   "metadata": {},
   "outputs": [
    {
     "data": {
      "text/plain": [
       "3149   -1.0\n",
       "3156   -1.0\n",
       "3162   -1.0\n",
       "3168   -1.0\n",
       "3175   -1.0\n",
       "3182   -1.0\n",
       "3189   -1.0\n",
       "3198   -1.0\n",
       "3206   -1.0\n",
       "3214   -1.0\n",
       "Name: direction, dtype: float64"
      ]
     },
     "execution_count": 53,
     "metadata": {},
     "output_type": "execute_result"
    }
   ],
   "source": [
    "pre.direction"
   ]
  },
  {
   "cell_type": "code",
   "execution_count": null,
   "metadata": {},
   "outputs": [],
   "source": []
  }
 ],
 "metadata": {
  "kernelspec": {
   "display_name": "Python 3",
   "language": "python",
   "name": "python3"
  },
  "language_info": {
   "codemirror_mode": {
    "name": "ipython",
    "version": 3
   },
   "file_extension": ".py",
   "mimetype": "text/x-python",
   "name": "python",
   "nbconvert_exporter": "python",
   "pygments_lexer": "ipython3",
   "version": "3.6.4"
  }
 },
 "nbformat": 4,
 "nbformat_minor": 2
}
