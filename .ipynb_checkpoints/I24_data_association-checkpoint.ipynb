{
 "cells": [
  {
   "cell_type": "markdown",
   "metadata": {},
   "source": [
    "Deal with unlabeled bbox (remove car IDs)\n",
    "Goal: associate measurements to unique objects\n",
    "1. try stitching objects in mutl-camera road"
   ]
  },
  {
   "cell_type": "raw",
   "metadata": {},
   "source": [
    "# greedy measurement assignment\n",
    "for each frame\n",
    "    predict the next position of each existing car x_n\n",
    "    for each measurement y_m\n",
    "        check if the measurement belongs to any existing cars (compute distance score, simple thresholding check)\n",
    "        if so, assign that measurement to a track -> assign(y_m, x_n)\n",
    "        if not, create a new car"
   ]
  },
  {
   "cell_type": "code",
   "execution_count": 1,
   "metadata": {},
   "outputs": [
    {
     "name": "stderr",
     "output_type": "stream",
     "text": [
      "\n",
      "Bad key \"text.kerning_factor\" on line 4 in\n",
      "C:\\ProgramData\\Anaconda3\\lib\\site-packages\\matplotlib\\mpl-data\\stylelib\\_classic_test_patch.mplstyle.\n",
      "You probably need to get an updated matplotlibrc file from\n",
      "http://github.com/matplotlib/matplotlib/blob/master/matplotlibrc.template\n",
      "or from the matplotlib source distribution\n"
     ]
    }
   ],
   "source": [
    "from utils import *\n",
    "import importlib\n",
    "import utils\n",
    "importlib.reload(utils)\n",
    "import os.path\n",
    "from os import path\n",
    "import pandas as pd\n",
    "import utils_optimization as opt\n",
    "importlib.reload(opt)\n",
    "import data_association as da\n",
    "importlib.reload(da)\n",
    "import time\n",
    "from scipy.optimize import minimize,NonlinearConstraint,leastsq,fmin_slsqp,least_squares\n",
    "import numpy.linalg as LA\n",
    "from shapely.geometry import Polygon"
   ]
  },
  {
   "cell_type": "code",
   "execution_count": null,
   "metadata": {},
   "outputs": [
    {
     "name": "stdout",
     "output_type": "stream",
     "text": [
      "p1c1_1_track_outputs_3D.csv\n",
      "Reading data...\n",
      "Total # cars before preprocessing: 1810\n",
      "Transform from image to road for p1c1...\n",
      "Interpret missing timestamps...\n",
      "No timestamps values\n",
      "Constrain x,y range by camera FOV\n",
      "0 130 -5 45\n",
      "Filtering out tailing place holders...\n",
      "Get the longest continuous frame chuck...\n",
      "Get x direction...\n",
      "Naive filter...\n",
      "after direction=0 filter:  1115\n"
     ]
    },
    {
     "name": "stderr",
     "output_type": "stream",
     "text": [
      "C:\\Users\\wangy79\\Documents\\I24_trajectory\\I24-trajectory-generation\\utils.py:67: RuntimeWarning: invalid value encountered in greater\n",
      "  outliers =\tnp.logical_or(abs(w1 - m) > 2 * s,abs(w2 - m) > 2 * s)\n",
      "C:\\Users\\wangy79\\Documents\\I24_trajectory\\I24-trajectory-generation\\utils.py:77: RuntimeWarning: invalid value encountered in greater\n",
      "  outliers =\tnp.logical_or(abs(l1 - m) > 2 * s,abs(l2 - m) > 2 * s)\n"
     ]
    },
    {
     "name": "stdout",
     "output_type": "stream",
     "text": [
      "filter width length: 1115\n",
      "Before DA:  1115 cars\n",
      "After stitching:  1004 cars\n"
     ]
    }
   ],
   "source": [
    "# read & rectify each camera df individually\n",
    "\n",
    "data_path = pathlib.Path().absolute().joinpath('../June_5min')\n",
    "tform_path = pathlib.Path().absolute().joinpath('../tform')\n",
    "\n",
    "# df = pd.DataFrame()\n",
    "for root,dirs,files in os.walk(str(data_path), topdown = True):\n",
    "    for file in files:\n",
    "        if file.endswith(\".csv\"):\n",
    "            \n",
    "            # ... reading & preprocessing ...\n",
    "            print(file)\n",
    "            file_path = data_path.joinpath(file)\n",
    "            df = utils.preprocess(file_path, tform_path, skip_row = 0)\n",
    "            df = df.sort_values(by=['Frame #','Timestamp']).reset_index(drop=True)\n",
    "            df = utils.preprocess_data_association(df)\n",
    "            \n",
    "            # ... rectifying ...\n",
    "            df = opt.rectify(df)\n",
    "            \n",
    "            # ... post processing ...\n",
    "            df = utils.post_process(df)\n",
    "            \n",
    "            # ... saving ...\n",
    "            new_name = 'rectified_' + file\n",
    "            df.to_csv(data_path.joinpath('rectified/',new_name), index=False)\n",
    "    break"
   ]
  },
  {
   "cell_type": "code",
   "execution_count": 26,
   "metadata": {
    "scrolled": false
   },
   "outputs": [
    {
     "name": "stdout",
     "output_type": "stream",
     "text": [
      "Reading data...\n",
      "Total # cars before preprocessing: 1810\n",
      "Transform from image to road for p1c1...\n",
      "Interpret missing timestamps...\n",
      "No timestamps values\n",
      "Constrain x,y range by camera FOV\n",
      "0 130 -5 45\n",
      "Filtering out tailing place holders...\n",
      "Get the longest continuous frame chuck...\n",
      "Get x direction...\n",
      "Naive filter...\n",
      "after direction=0 filter:  1115\n"
     ]
    },
    {
     "name": "stderr",
     "output_type": "stream",
     "text": [
      "C:\\Users\\wangy79\\Documents\\I24_trajectory\\I24-trajectory-generation\\utils.py:67: RuntimeWarning: invalid value encountered in greater\n",
      "  outliers =\tnp.logical_or(abs(w1 - m) > 2 * s,abs(w2 - m) > 2 * s)\n",
      "C:\\Users\\wangy79\\Documents\\I24_trajectory\\I24-trajectory-generation\\utils.py:77: RuntimeWarning: invalid value encountered in greater\n",
      "  outliers =\tnp.logical_or(abs(l1 - m) > 2 * s,abs(l2 - m) > 2 * s)\n"
     ]
    },
    {
     "name": "stdout",
     "output_type": "stream",
     "text": [
      "filter width length: 1115\n"
     ]
    }
   ],
   "source": [
    "# read and preprocess data (one csv file)\n",
    "\n",
    "data_path = pathlib.Path().absolute().joinpath('../June_5min')\n",
    "tform_path = pathlib.Path().absolute().joinpath('../tform')\n",
    "file_path = data_path.joinpath('p1c1_1_track_outputs_3D.csv')\n",
    "\n",
    "df = utils.preprocess(file_path, tform_path, skip_row = 0)"
   ]
  },
  {
   "cell_type": "code",
   "execution_count": 32,
   "metadata": {
    "scrolled": true
   },
   "outputs": [
    {
     "name": "stdout",
     "output_type": "stream",
     "text": [
      "Before DA:  225 cars\n",
      "Frame :    0\n",
      "Frame :  100\n",
      "Frame :  200\n",
      "Frame :  300\n",
      "Frame :  400\n",
      "Frame :  500\n",
      "Frame :  600\n",
      "Frame :  700\n",
      "Frame :  800\n",
      "Frame :  900\n",
      "Frame : 1000\n",
      "Frame : 1100\n",
      "Frame : 1200\n",
      "Frame : 1300\n",
      "Frame : 1400\n",
      "Frame : 1500\n",
      "Frame : 1600\n",
      "Frame : 1700\n"
     ]
    },
    {
     "name": "stderr",
     "output_type": "stream",
     "text": [
      "C:\\Users\\wangy79\\Documents\\I24_trajectory\\I24-trajectory-generation\\utils.py:775: SettingWithCopyWarning: \n",
      "A value is trying to be set on a copy of a slice from a DataFrame.\n",
      "Try using .loc[row_indexer,col_indexer] = value instead\n",
      "\n",
      "See the caveats in the documentation: https://pandas.pydata.org/pandas-docs/stable/user_guide/indexing.html#returning-a-view-versus-a-copy\n",
      "  df['ID'] = df['ID'].apply(lambda x: parent[x] if x in parent else x)\n"
     ]
    },
    {
     "name": "stdout",
     "output_type": "stream",
     "text": [
      "After stitching:  210 cars\n"
     ]
    },
    {
     "name": "stderr",
     "output_type": "stream",
     "text": [
      "C:\\Users\\wangy79\\Documents\\I24_trajectory\\I24-trajectory-generation\\utils.py:780: SettingWithCopyWarning: \n",
      "A value is trying to be set on a copy of a slice from a DataFrame.\n",
      "Try using .loc[row_indexer,col_indexer] = value instead\n",
      "\n",
      "See the caveats in the documentation: https://pandas.pydata.org/pandas-docs/stable/user_guide/indexing.html#returning-a-view-versus-a-copy\n",
      "  df['ID'] = df['ID'].apply(lambda x: parent[x] if x in parent else x)\n"
     ]
    },
    {
     "name": "stdout",
     "output_type": "stream",
     "text": [
      "After assocating overlaps:  201 cars\n",
      "Get the longest continuous frame chunk...\n"
     ]
    },
    {
     "name": "stderr",
     "output_type": "stream",
     "text": [
      "100%|██████████████████████████████████████████████████████████████████████████████| 1798/1798 [00:26<00:00, 68.61it/s]\n"
     ]
    }
   ],
   "source": [
    "# stitching based on prediction and overlaps\n",
    "\n",
    "import utils\n",
    "importlib.reload(utils)\n",
    "\n",
    "df = utils.preprocess_data_association(df)\n"
   ]
  },
  {
   "cell_type": "code",
   "execution_count": 33,
   "metadata": {},
   "outputs": [
    {
     "name": "stderr",
     "output_type": "stream",
     "text": [
      "100%|████████████████████████████████████████████████████████████████████████████████| 201/201 [05:20<00:00,  1.59s/it]\n"
     ]
    }
   ],
   "source": [
    "# try rectification\n",
    "import utils_optimization as opt\n",
    "importlib.reload(opt)\n",
    "df = opt.rectify(df) # parallel, batch method"
   ]
  },
  {
   "cell_type": "code",
   "execution_count": 34,
   "metadata": {},
   "outputs": [
    {
     "name": "stdout",
     "output_type": "stream",
     "text": [
      "cap width at 2.59m...\n",
      "standardize format for plotter...\n"
     ]
    }
   ],
   "source": [
    "df = utils.post_process(df)"
   ]
  },
  {
   "cell_type": "code",
   "execution_count": 35,
   "metadata": {},
   "outputs": [],
   "source": [
    "df.to_csv('../June_5min/rectified/rectified_p1c1_uncorrected_5min_1min.csv',index=False)"
   ]
  },
  {
   "cell_type": "code",
   "execution_count": 68,
   "metadata": {
    "scrolled": true
   },
   "outputs": [
    {
     "name": "stdout",
     "output_type": "stream",
     "text": [
      "(0, 130, -5, 45)\n",
      "Frame:  0 8994\n"
     ]
    }
   ],
   "source": [
    "# make an animation based on LMCS\n",
    "import os\n",
    "import glob\n",
    "import importlib\n",
    "import animation_utils as an\n",
    "importlib.reload(an)\n",
    "image_folder = '../FramePic'\n",
    "\n",
    "filelist = glob.glob(os.path.join(image_folder, \"*\"))\n",
    "for f in filelist:\n",
    "    os.remove(f)\n",
    "    \n",
    "if len(df['camera'].unique())==1:\n",
    "    dim0 = get_camera_range(df['camera'][0])\n",
    "else:\n",
    "    dim0 = get_camera_range('all')\n",
    "print(dim0)\n",
    "dim = [d * 3.281 for d in dim0] # convert meter to feet\n",
    "an.generate_frames(df, dim, skip_frame=1, image_folder=image_folder)"
   ]
  },
  {
   "cell_type": "code",
   "execution_count": 69,
   "metadata": {},
   "outputs": [],
   "source": [
    "# Fetch image files from the folder, and create an animation.\n",
    "importlib.reload(an)\n",
    "video_name = '../p1c1_uncorrected5min_DA.mp4'\n",
    "an.write_video(image_folder, video_name, fps=30)"
   ]
  },
  {
   "cell_type": "code",
   "execution_count": 36,
   "metadata": {},
   "outputs": [],
   "source": [
    "# visualize footprint on the camera video\n",
    "\n",
    "import plot_rectified_objects\n",
    "importlib.reload(plot_rectified_objects)\n",
    "\n",
    "video = str(data_path.joinpath('raw_video/p1c1_1.mp4'))\n",
    "label_file = str(data_path.joinpath('rectified/rectified_p1c1_1_track_outputs_3D.csv')) \n",
    "# # label_file = str(data_path.joinpath('rectified/p1_all/rectified_p1c3.csv')) \n",
    "# # label_file = str(data_path.joinpath('rectified/uncorrected_individual/rectified_p1c3_uncorrected.csv'))\n",
    "# # label_file = str(data_path.joinpath('rectified/uncorrected_all/rectified_p1c3.csv'))\n",
    "plot_rectified_objects.plot_vehicle_csv(video,label_file, frame_rate = 10,show_2d = False,show_3d = True,show_LMCS = True,show_rectified = False, ds=True)\n"
   ]
  },
  {
   "cell_type": "code",
   "execution_count": 78,
   "metadata": {},
   "outputs": [
    {
     "data": {
      "text/plain": [
       "'C:\\\\Users\\\\wangy79\\\\Documents\\\\I24_trajectory\\\\I24-trajectory-generation\\\\..\\\\June_5min\\\\rectified\\\\rectified_p1c1_uncorrected_5min.csv'"
      ]
     },
     "execution_count": 78,
     "metadata": {},
     "output_type": "execute_result"
    }
   ],
   "source": [
    "label_file"
   ]
  },
  {
   "cell_type": "code",
   "execution_count": null,
   "metadata": {},
   "outputs": [],
   "source": [
    "# read & rectify each camera df individually\n",
    "import utils\n",
    "importlib.reload(utils)\n",
    "data_path = pathlib.Path().absolute().joinpath('../June 2021 Data - 1 minute 5 cameras w RAV 4/')\n",
    "tform_path = pathlib.Path().absolute().joinpath('../2D-3D May 2021/i24-roadway-transforms-main/tform')\n",
    "\n",
    "# df = pd.DataFrame()\n",
    "for root,dirs,files in os.walk(str(data_path), topdown = True):\n",
    "    for file in files:\n",
    "        if file.endswith(\".csv\") and file.startswith('p1c6'):\n",
    "            \n",
    "            # ... reading ...\n",
    "            file_name = data_path.joinpath(file)\n",
    "            camera_id = utils.find_camera_name(file)\n",
    "            print('reading ',camera_id,'...')\n",
    "            \n",
    "            # ... preprocessing ...\n",
    "            df = utils.preprocess(file_name, tform_path)\n",
    "            df = df.assign(camera=camera_id)\n",
    "            df = df.sort_values(by=['Frame #','Timestamp']).reset_index(drop=True)\n",
    "        \n",
    "            # ... rectifying ...\n",
    "            df = opt.rectify(df)\n",
    "            \n",
    "            # ... post processing ...\n",
    "            dfpp = utils.post_process(df)\n",
    "            dfpp_img = utils.road_to_img(dfpp, tform_path)\n",
    "            \n",
    "            # ... saving ...\n",
    "            new_name = 'rectified_' + camera_id +'.csv'\n",
    "            dfpp_img.to_csv(new_name)\n",
    "    break"
   ]
  },
  {
   "cell_type": "code",
   "execution_count": null,
   "metadata": {},
   "outputs": [],
   "source": [
    "# plot \n",
    "import utils\n",
    "importlib.reload(utils)\n",
    "D = np.array(df[['bbr_x','bbr_y', 'fbr_x','fbr_y','fbl_x','fbl_y','bbl_x', 'bbl_y']])\n",
    "utils.plot_track(D,15,5)"
   ]
  },
  {
   "cell_type": "code",
   "execution_count": null,
   "metadata": {},
   "outputs": [],
   "source": [
    "fig, ax = plt.subplots()\n",
    "# plt.xlim(xmin, xmax)\n",
    "# plt.ylim(20, 42) # 0, 42\n",
    "plt.xlabel('meter')\n",
    "plt.ylabel('meter')\n",
    "#plot design setup\n",
    "plt.axhline(y = 21.25, color = 'black', linestyle = 'solid')\n",
    "plt.axhline(y = 24, color = 'yellow', linestyle = '--')\n",
    "plt.axhline(y = 18.5, color = 'yellow', linestyle = '--')\n",
    "carColors=cm.rainbow(np.linspace(0,1,5))\n",
    "\n",
    "# frameSnap = np.array(group[['bbr_x','bbr_y','fbr_x','fbr_y','fbl_x','fbl_y','bbl_x', 'bbl_y']])\n",
    "for carid, track in tracks.items():\n",
    "    frameSnap = track\n",
    "    c = carColors[carid%5]\n",
    "    for j in range(len(frameSnap)):  # draw one vehicle onto the plot\n",
    "    #     carID = int(frameSnap[j,0])  # Finding the unique carID for each vehicle in the frame\n",
    "        coord = frameSnap[j,0:8]   # Finding the coordinates of the car\n",
    "        if (np.isnan(coord).any()):\n",
    "            print('nan')\n",
    "            continue\n",
    "        coord = np.reshape(coord,(-1,2)).tolist()\n",
    "        coord.append(coord[0])\n",
    "        xs, ys = zip(*coord)\n",
    "        plt.plot(xs,ys,c=c,label=carid if j==0 else '')\n",
    "        #     plt.text(frameSnap[j,1], frameSnap[j,2], carID)\n",
    "#     plt.legend()\n"
   ]
  },
  {
   "cell_type": "code",
   "execution_count": null,
   "metadata": {},
   "outputs": [],
   "source": []
  }
 ],
 "metadata": {
  "kernelspec": {
   "display_name": "Python 3",
   "language": "python",
   "name": "python3"
  },
  "language_info": {
   "codemirror_mode": {
    "name": "ipython",
    "version": 3
   },
   "file_extension": ".py",
   "mimetype": "text/x-python",
   "name": "python",
   "nbconvert_exporter": "python",
   "pygments_lexer": "ipython3",
   "version": "3.6.4"
  }
 },
 "nbformat": 4,
 "nbformat_minor": 2
}
