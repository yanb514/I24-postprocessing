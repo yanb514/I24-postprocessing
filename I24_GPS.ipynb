{
 "cells": [
  {
   "cell_type": "code",
   "execution_count": 170,
   "metadata": {},
   "outputs": [],
   "source": [
    "import pandas as pd\n",
    "import importlib\n",
    "import utils\n",
    "importlib.reload(utils)\n",
    "from os import path\n",
    "import time\n",
    "import pathlib\n",
    "import matplotlib.pyplot as plt\n",
    "import numpy as np\n",
    "from mpl_toolkits import mplot3d\n",
    "from datetime import datetime"
   ]
  },
  {
   "cell_type": "code",
   "execution_count": 22,
   "metadata": {},
   "outputs": [],
   "source": [
    "data_path = pathlib.Path().absolute().joinpath('../I24_motion_GPS')\n",
    "file_name = data_path.joinpath('tableview_210617_192904_VU1.csv')\n",
    "df1 = utils.read_data(file_name,0,False)\n",
    "file_name = data_path.joinpath('tableview_210617_192126_VU2.csv')\n",
    "df2 = utils.read_data(file_name,0,False)"
   ]
  },
  {
   "cell_type": "code",
   "execution_count": 79,
   "metadata": {},
   "outputs": [],
   "source": [
    "# convert string to datetime and to timestamps\n",
    "df1 = df1.assign(datetime=[datetime.strptime(df1.UTC[i], '%H:%M:%S.%f %m/%d/%Y') for i in range(len(df1))])\n",
    "df2 = df2.assign(UTC=[df2.UTC[i].replace('??/??/????','06/16/2021') for i in range(len(df2))])\n",
    "df2 = df2.assign(datetime=[datetime.strptime(df2.UTC[i], '%H:%M:%S.%f %m/%d/%Y') for i in range(len(df2))])\n",
    "df1['timestamp'] = df1.datetime.apply(lambda x: x.timestamp())\n",
    "df2['timestamp'] = df2.datetime.apply(lambda x: x.timestamp())"
   ]
  },
  {
   "cell_type": "code",
   "execution_count": 155,
   "metadata": {},
   "outputs": [],
   "source": [
    "# select the testbed region\n",
    "df1s = df1[df1['Lat']<36.04]\n",
    "df2s = df2[df2['Lat']<36.04]\n",
    "# find the overlapped time range\n",
    "laterStart = max(df1s.timestamp.iloc[0],df2s.timestamp.iloc[0])\n",
    "earlyFinish = min(df1s.timestamp.iloc[-1],df2s.timestamp.iloc[-1])\n",
    "df1s = df1s[(df1s['timestamp']>=laterStart) & (df1s['timestamp']<=earlyFinish)]\n",
    "df2s = df2s[(df2s['timestamp']>=laterStart) & (df2s['timestamp']<=earlyFinish)]\n",
    "df1s=df1s.reset_index()\n",
    "df2s=df2s.reset_index()\n",
    "\n",
    "# drop unrelavent columns\n",
    "df1s = df1s.loc[:, df1s.columns.intersection(['datetime','timestamp','Lat','Lon'])]\n",
    "df2s = df2s.loc[:, df2s.columns.intersection(['datetime','timestamp','Lat','Lon'])]\n",
    "\n",
    "# resample according to 30hz frequency\n",
    "df1re = df1s.resample('0.0333S', on='datetime').mean().interpolate('linear').reset_index()\n",
    "df2re = df2s.resample('0.0333S', on='datetime').mean().interpolate('linear').reset_index()\n",
    "\n",
    "df2re.drop(df2re.tail(1).index,inplace=True) # drop last n rows\n",
    "\n",
    "# modify timestamp\n",
    "df1re['timestamp'] = df1re.datetime.apply(lambda x: x.timestamp())\n",
    "df2re['timestamp'] = df2re.datetime.apply(lambda x: x.timestamp())"
   ]
  },
  {
   "cell_type": "code",
   "execution_count": 160,
   "metadata": {},
   "outputs": [],
   "source": [
    "# rename columns and concate into one df\n",
    "df1re = df1re.rename(columns={'Lat':'lat1','Lon':'lon1'})\n",
    "df2re = df2re.rename(columns={'Lat':'lat2','Lon':'lon2'})\n"
   ]
  },
  {
   "cell_type": "code",
   "execution_count": 171,
   "metadata": {},
   "outputs": [
    {
     "name": "stdout",
     "output_type": "stream",
     "text": [
      "\n",
      "###############################\n",
      "\n",
      " Beginning Key Insertion ...\n",
      "\n",
      "Key Insertion Completed!!\n"
     ]
    },
    {
     "name": "stderr",
     "output_type": "stream",
     "text": [
      "C:\\Users\\wangy79\\Documents\\I24_trajectory\\I24-trajectory-generation\\utils.py:235: ResourceWarning: unclosed file <_io.TextIOWrapper name='test.html' mode='r' encoding='cp1252'>\n",
      "  htmltxt = open(fname, 'r').read()\n",
      "C:\\Users\\wangy79\\Documents\\I24_trajectory\\I24-trajectory-generation\\utils.py:239: ResourceWarning: unclosed file <_io.TextIOWrapper name='test.html' mode='w' encoding='cp1252'>\n",
      "  open(fname, 'w').write(newtxt)\n"
     ]
    },
    {
     "data": {
      "text/html": [
       "\n",
       "        <iframe\n",
       "            width=\"900\"\n",
       "            height=\"600\"\n",
       "            src=\"test.html\"\n",
       "            frameborder=\"0\"\n",
       "            allowfullscreen\n",
       "        ></iframe>\n",
       "        "
      ],
      "text/plain": [
       "<IPython.lib.display.IFrame at 0x1d2a97a8400>"
      ]
     },
     "execution_count": 171,
     "metadata": {},
     "output_type": "execute_result"
    }
   ],
   "source": [
    "utils.draw_map_scatter(df2s.Lat.values[::50], df2s.Lon.values[::50])"
   ]
  },
  {
   "cell_type": "code",
   "execution_count": 163,
   "metadata": {},
   "outputs": [
    {
     "data": {
      "text/html": [
       "<div>\n",
       "<style scoped>\n",
       "    .dataframe tbody tr th:only-of-type {\n",
       "        vertical-align: middle;\n",
       "    }\n",
       "\n",
       "    .dataframe tbody tr th {\n",
       "        vertical-align: top;\n",
       "    }\n",
       "\n",
       "    .dataframe thead th {\n",
       "        text-align: right;\n",
       "    }\n",
       "</style>\n",
       "<table border=\"1\" class=\"dataframe\">\n",
       "  <thead>\n",
       "    <tr style=\"text-align: right;\">\n",
       "      <th></th>\n",
       "      <th>datetime</th>\n",
       "      <th>lat1</th>\n",
       "      <th>lon1</th>\n",
       "      <th>timestamp</th>\n",
       "      <th>lat2</th>\n",
       "      <th>lon2</th>\n",
       "    </tr>\n",
       "  </thead>\n",
       "  <tbody>\n",
       "    <tr>\n",
       "      <th>0</th>\n",
       "      <td>2021-06-16 20:58:12.099000</td>\n",
       "      <td>35.993168</td>\n",
       "      <td>-86.596423</td>\n",
       "      <td>1.623877e+09</td>\n",
       "      <td>35.993253</td>\n",
       "      <td>-86.596631</td>\n",
       "    </tr>\n",
       "    <tr>\n",
       "      <th>1</th>\n",
       "      <td>2021-06-16 20:58:12.132300</td>\n",
       "      <td>35.993168</td>\n",
       "      <td>-86.596424</td>\n",
       "      <td>1.623877e+09</td>\n",
       "      <td>35.993253</td>\n",
       "      <td>-86.596631</td>\n",
       "    </tr>\n",
       "    <tr>\n",
       "      <th>2</th>\n",
       "      <td>2021-06-16 20:58:12.165600</td>\n",
       "      <td>35.993168</td>\n",
       "      <td>-86.596424</td>\n",
       "      <td>1.623877e+09</td>\n",
       "      <td>35.993253</td>\n",
       "      <td>-86.596631</td>\n",
       "    </tr>\n",
       "    <tr>\n",
       "      <th>3</th>\n",
       "      <td>2021-06-16 20:58:12.198900</td>\n",
       "      <td>35.993168</td>\n",
       "      <td>-86.596424</td>\n",
       "      <td>1.623877e+09</td>\n",
       "      <td>35.993253</td>\n",
       "      <td>-86.596631</td>\n",
       "    </tr>\n",
       "    <tr>\n",
       "      <th>4</th>\n",
       "      <td>2021-06-16 20:58:12.232200</td>\n",
       "      <td>35.993168</td>\n",
       "      <td>-86.596425</td>\n",
       "      <td>1.623877e+09</td>\n",
       "      <td>35.993254</td>\n",
       "      <td>-86.596632</td>\n",
       "    </tr>\n",
       "    <tr>\n",
       "      <th>...</th>\n",
       "      <td>...</td>\n",
       "      <td>...</td>\n",
       "      <td>...</td>\n",
       "      <td>...</td>\n",
       "      <td>...</td>\n",
       "      <td>...</td>\n",
       "    </tr>\n",
       "    <tr>\n",
       "      <th>33375</th>\n",
       "      <td>2021-06-16 21:16:43.486500</td>\n",
       "      <td>36.037308</td>\n",
       "      <td>-86.645889</td>\n",
       "      <td>1.623878e+09</td>\n",
       "      <td>36.037557</td>\n",
       "      <td>-86.646165</td>\n",
       "    </tr>\n",
       "    <tr>\n",
       "      <th>33376</th>\n",
       "      <td>2021-06-16 21:16:43.519800</td>\n",
       "      <td>36.037315</td>\n",
       "      <td>-86.645897</td>\n",
       "      <td>1.623878e+09</td>\n",
       "      <td>36.037563</td>\n",
       "      <td>-86.646172</td>\n",
       "    </tr>\n",
       "    <tr>\n",
       "      <th>33377</th>\n",
       "      <td>2021-06-16 21:16:43.553100</td>\n",
       "      <td>36.037321</td>\n",
       "      <td>-86.645904</td>\n",
       "      <td>1.623878e+09</td>\n",
       "      <td>36.037570</td>\n",
       "      <td>-86.646180</td>\n",
       "    </tr>\n",
       "    <tr>\n",
       "      <th>33378</th>\n",
       "      <td>2021-06-16 21:16:43.586400</td>\n",
       "      <td>36.037327</td>\n",
       "      <td>-86.645911</td>\n",
       "      <td>1.623878e+09</td>\n",
       "      <td>36.037576</td>\n",
       "      <td>-86.646187</td>\n",
       "    </tr>\n",
       "    <tr>\n",
       "      <th>33379</th>\n",
       "      <td>2021-06-16 21:16:43.619700</td>\n",
       "      <td>36.037334</td>\n",
       "      <td>-86.645918</td>\n",
       "      <td>1.623878e+09</td>\n",
       "      <td>36.037583</td>\n",
       "      <td>-86.646194</td>\n",
       "    </tr>\n",
       "  </tbody>\n",
       "</table>\n",
       "<p>33380 rows × 6 columns</p>\n",
       "</div>"
      ],
      "text/plain": [
       "                        datetime       lat1       lon1     timestamp  \\\n",
       "0     2021-06-16 20:58:12.099000  35.993168 -86.596423  1.623877e+09   \n",
       "1     2021-06-16 20:58:12.132300  35.993168 -86.596424  1.623877e+09   \n",
       "2     2021-06-16 20:58:12.165600  35.993168 -86.596424  1.623877e+09   \n",
       "3     2021-06-16 20:58:12.198900  35.993168 -86.596424  1.623877e+09   \n",
       "4     2021-06-16 20:58:12.232200  35.993168 -86.596425  1.623877e+09   \n",
       "...                          ...        ...        ...           ...   \n",
       "33375 2021-06-16 21:16:43.486500  36.037308 -86.645889  1.623878e+09   \n",
       "33376 2021-06-16 21:16:43.519800  36.037315 -86.645897  1.623878e+09   \n",
       "33377 2021-06-16 21:16:43.553100  36.037321 -86.645904  1.623878e+09   \n",
       "33378 2021-06-16 21:16:43.586400  36.037327 -86.645911  1.623878e+09   \n",
       "33379 2021-06-16 21:16:43.619700  36.037334 -86.645918  1.623878e+09   \n",
       "\n",
       "            lat2       lon2  \n",
       "0      35.993253 -86.596631  \n",
       "1      35.993253 -86.596631  \n",
       "2      35.993253 -86.596631  \n",
       "3      35.993253 -86.596631  \n",
       "4      35.993254 -86.596632  \n",
       "...          ...        ...  \n",
       "33375  36.037557 -86.646165  \n",
       "33376  36.037563 -86.646172  \n",
       "33377  36.037570 -86.646180  \n",
       "33378  36.037576 -86.646187  \n",
       "33379  36.037583 -86.646194  \n",
       "\n",
       "[33380 rows x 6 columns]"
      ]
     },
     "execution_count": 163,
     "metadata": {},
     "output_type": "execute_result"
    }
   ],
   "source": [
    "df2re = df2re.drop(columns=['datetime'])\n",
    "dfre = pd.merge(df1re, df2re, on='timestamp')\n",
    "dfre"
   ]
  },
  {
   "cell_type": "code",
   "execution_count": 141,
   "metadata": {},
   "outputs": [
    {
     "data": {
      "text/plain": [
       "Text(0.5,1,'car 2')"
      ]
     },
     "execution_count": 141,
     "metadata": {},
     "output_type": "execute_result"
    },
    {
     "data": {
      "image/png": "[encoded data removed]",
      "text/plain": [
       "<Figure size 720x360 with 2 Axes>"
      ]
     },
     "metadata": {},
     "output_type": "display_data"
    }
   ],
   "source": [
    "# plt.scatter(df1re.Lon, df1re.Lat,s=0.2,c=df1re.timestamp)\n",
    "# plt.colorbar()\n",
    "\n",
    "fig, (ax1, ax2) = plt.subplots(1,2, figsize=(10,5))\n",
    "\n",
    "ax1.scatter(df1re.Lon, df1re.Lat,s=0.2,c=df1re.timestamp)\n",
    "ax1.set_title('car 1')\n",
    "# fig.colorbar()\n",
    "ax2.scatter(df2re.Lon, df2re.Lat,s=0.2,c=df2re.timestamp)  \n",
    "ax2.set_title('car 2')\n",
    "# ax2.colorbar()\n"
   ]
  },
  {
   "cell_type": "code",
   "execution_count": 164,
   "metadata": {},
   "outputs": [],
   "source": [
    "dfre.to_csv('GPS_vu12.csv')"
   ]
  },
  {
   "cell_type": "code",
   "execution_count": 165,
   "metadata": {},
   "outputs": [],
   "source": [
    "points = np.array(dfre[['lat1','lon1','lat2','lon2']])"
   ]
  },
  {
   "cell_type": "code",
   "execution_count": 167,
   "metadata": {},
   "outputs": [
    {
     "data": {
      "text/plain": [
       "array([20.93868037, 20.92431305, 20.89857657, ..., 37.1714078 ,\n",
       "       37.16180904, 37.17896861])"
      ]
     },
     "execution_count": 167,
     "metadata": {},
     "output_type": "execute_result"
    }
   ],
   "source": [
    "d,_,_ = utils.euclidean_distance(points[:,0], points[:,1],points[:,2], points[:,3])\n"
   ]
  },
  {
   "cell_type": "code",
   "execution_count": 169,
   "metadata": {},
   "outputs": [
    {
     "data": {
      "text/plain": [
       "Text(0,0.5,'meter')"
      ]
     },
     "execution_count": 169,
     "metadata": {},
     "output_type": "execute_result"
    },
    {
     "data": {
      "image/png": "[encoded data removed]",
      "text/plain": [
       "<Figure size 432x288 with 1 Axes>"
      ]
     },
     "metadata": {},
     "output_type": "display_data"
    }
   ],
   "source": [
    "plt.plot(dfre.timestamp, d)\n",
    "plt.title('relative distance')\n",
    "plt.xlabel('timestamp')\n",
    "plt.ylabel('meter')"
   ]
  },
  {
   "cell_type": "code",
   "execution_count": 173,
   "metadata": {},
   "outputs": [
    {
     "data": {
      "text/plain": [
       "0.03000020980834961"
      ]
     },
     "execution_count": 173,
     "metadata": {},
     "output_type": "execute_result"
    }
   ],
   "source": [
    "df1s.timestamp[1]-df1s.timestamp[0]"
   ]
  },
  {
   "cell_type": "code",
   "execution_count": null,
   "metadata": {},
   "outputs": [],
   "source": []
  }
 ],
 "metadata": {
  "kernelspec": {
   "display_name": "Python 3",
   "language": "python",
   "name": "python3"
  },
  "language_info": {
   "codemirror_mode": {
    "name": "ipython",
    "version": 3
   },
   "file_extension": ".py",
   "mimetype": "text/x-python",
   "name": "python",
   "nbconvert_exporter": "python",
   "pygments_lexer": "ipython3",
   "version": "3.6.4"
  }
 },
 "nbformat": 4,
 "nbformat_minor": 2
}
